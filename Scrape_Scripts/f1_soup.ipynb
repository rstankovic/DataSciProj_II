{
 "cells": [
  {
   "cell_type": "code",
   "execution_count": 3,
   "metadata": {},
   "outputs": [],
   "source": [
    "from bs4 import BeautifulSoup as bs \n",
    "from splinter import Browser\n",
    "import time\n",
    "import pymongo\n",
    "\n",
    "def init_browser():\n",
    "    executable_path = {'executable_path':'/usr/local/bin/chromedriver'}\n",
    "    return Browser('chrome',**executable_path, headless = False)\n",
    "\n"
   ]
  },
  {
   "cell_type": "code",
   "execution_count": 4,
   "metadata": {},
   "outputs": [
    {
     "ename": "UnboundLocalError",
     "evalue": "local variable 'e' referenced before assignment",
     "output_type": "error",
     "traceback": [
      "\u001b[0;31m---------------------------------------------------------------------------\u001b[0m",
      "\u001b[0;31mUnboundLocalError\u001b[0m                         Traceback (most recent call last)",
      "\u001b[0;32m<ipython-input-4-b5518e5b716a>\u001b[0m in \u001b[0;36m<module>\u001b[0;34m\u001b[0m\n\u001b[0;32m----> 1\u001b[0;31m \u001b[0mbrowser\u001b[0m \u001b[0;34m=\u001b[0m \u001b[0minit_browser\u001b[0m\u001b[0;34m(\u001b[0m\u001b[0;34m)\u001b[0m\u001b[0;34m\u001b[0m\u001b[0;34m\u001b[0m\u001b[0m\n\u001b[0m\u001b[1;32m      2\u001b[0m \u001b[0mraces\u001b[0m \u001b[0;34m=\u001b[0m \u001b[0;34m[\u001b[0m\u001b[0;34m]\u001b[0m\u001b[0;34m\u001b[0m\u001b[0;34m\u001b[0m\u001b[0m\n\u001b[1;32m      3\u001b[0m \u001b[0;32mfor\u001b[0m \u001b[0myear\u001b[0m \u001b[0;32min\u001b[0m \u001b[0mrange\u001b[0m\u001b[0;34m(\u001b[0m\u001b[0;36m1950\u001b[0m\u001b[0;34m,\u001b[0m\u001b[0;36m1955\u001b[0m\u001b[0;34m)\u001b[0m\u001b[0;34m:\u001b[0m\u001b[0;34m\u001b[0m\u001b[0;34m\u001b[0m\u001b[0m\n\u001b[1;32m      4\u001b[0m \u001b[0;34m\u001b[0m\u001b[0m\n\u001b[1;32m      5\u001b[0m     \u001b[0murl\u001b[0m \u001b[0;34m=\u001b[0m \u001b[0;34mf'https://www.formula1.com/en/results.html/{year}/races.html'\u001b[0m\u001b[0;34m\u001b[0m\u001b[0;34m\u001b[0m\u001b[0m\n",
      "\u001b[0;32m<ipython-input-3-41bae96bc9eb>\u001b[0m in \u001b[0;36minit_browser\u001b[0;34m()\u001b[0m\n\u001b[1;32m      6\u001b[0m \u001b[0;32mdef\u001b[0m \u001b[0minit_browser\u001b[0m\u001b[0;34m(\u001b[0m\u001b[0;34m)\u001b[0m\u001b[0;34m:\u001b[0m\u001b[0;34m\u001b[0m\u001b[0;34m\u001b[0m\u001b[0m\n\u001b[1;32m      7\u001b[0m     \u001b[0mexecutable_path\u001b[0m \u001b[0;34m=\u001b[0m \u001b[0;34m{\u001b[0m\u001b[0;34m'executable_path'\u001b[0m\u001b[0;34m:\u001b[0m\u001b[0;34m'/usr/local/bin/chromedriver'\u001b[0m\u001b[0;34m}\u001b[0m\u001b[0;34m\u001b[0m\u001b[0;34m\u001b[0m\u001b[0m\n\u001b[0;32m----> 8\u001b[0;31m     \u001b[0;32mreturn\u001b[0m \u001b[0mBrowser\u001b[0m\u001b[0;34m(\u001b[0m\u001b[0;34m'chrome'\u001b[0m\u001b[0;34m,\u001b[0m\u001b[0;34m**\u001b[0m\u001b[0mexecutable_path\u001b[0m\u001b[0;34m,\u001b[0m \u001b[0mheadless\u001b[0m \u001b[0;34m=\u001b[0m \u001b[0;32mFalse\u001b[0m\u001b[0;34m)\u001b[0m\u001b[0;34m\u001b[0m\u001b[0;34m\u001b[0m\u001b[0m\n\u001b[0m\u001b[1;32m      9\u001b[0m \u001b[0;34m\u001b[0m\u001b[0m\n",
      "\u001b[0;32m/opt/anaconda3/lib/python3.7/site-packages/splinter/browser.py\u001b[0m in \u001b[0;36mBrowser\u001b[0;34m(driver_name, retry_count, *args, **kwargs)\u001b[0m\n\u001b[1;32m     88\u001b[0m         \u001b[0;32mraise\u001b[0m \u001b[0mDriverNotFoundError\u001b[0m\u001b[0;34m(\u001b[0m\u001b[0;34m\"No driver for %s\"\u001b[0m \u001b[0;34m%\u001b[0m \u001b[0mdriver_name\u001b[0m\u001b[0;34m)\u001b[0m\u001b[0;34m\u001b[0m\u001b[0;34m\u001b[0m\u001b[0m\n\u001b[1;32m     89\u001b[0m \u001b[0;34m\u001b[0m\u001b[0m\n\u001b[0;32m---> 90\u001b[0;31m     \u001b[0;32mreturn\u001b[0m \u001b[0mget_driver\u001b[0m\u001b[0;34m(\u001b[0m\u001b[0mdriver\u001b[0m\u001b[0;34m,\u001b[0m \u001b[0;34m*\u001b[0m\u001b[0margs\u001b[0m\u001b[0;34m,\u001b[0m \u001b[0;34m**\u001b[0m\u001b[0mkwargs\u001b[0m\u001b[0;34m)\u001b[0m\u001b[0;34m\u001b[0m\u001b[0;34m\u001b[0m\u001b[0m\n\u001b[0m",
      "\u001b[0;32m/opt/anaconda3/lib/python3.7/site-packages/splinter/browser.py\u001b[0m in \u001b[0;36mget_driver\u001b[0;34m(driver, retry_count, *args, **kwargs)\u001b[0m\n\u001b[1;32m     66\u001b[0m             \u001b[0;32mpass\u001b[0m\u001b[0;34m\u001b[0m\u001b[0;34m\u001b[0m\u001b[0m\n\u001b[1;32m     67\u001b[0m \u001b[0;34m\u001b[0m\u001b[0m\n\u001b[0;32m---> 68\u001b[0;31m     \u001b[0;32mraise\u001b[0m \u001b[0me\u001b[0m\u001b[0;34m\u001b[0m\u001b[0;34m\u001b[0m\u001b[0m\n\u001b[0m\u001b[1;32m     69\u001b[0m \u001b[0;34m\u001b[0m\u001b[0m\n\u001b[1;32m     70\u001b[0m \u001b[0;34m\u001b[0m\u001b[0m\n",
      "\u001b[0;31mUnboundLocalError\u001b[0m: local variable 'e' referenced before assignment"
     ]
    }
   ],
   "source": [
    "browser = init_browser()\n",
    "races = []\n",
    "for year in range(1950,1955):\n",
    "\n",
    "    url = f'https://www.formula1.com/en/results.html/{year}/races.html'\n",
    "    browser.visit(url)\n",
    "    time.sleep(1)\n",
    "\n",
    "    html = browser.html\n",
    "    soup = bs(html,'html.parser')\n",
    "    table = soup.find('table', {'class':'resultsarchive-table'})\n",
    "\n",
    "    for row in table.find_all('tr'):\n",
    "        new_dict = {}\n",
    "        race = [x.text for x in row.find_all('td')]\n",
    "\n",
    "        if len(race) > 2:\n",
    "            new_dict['Grand Prix'] = race[1].strip()\n",
    "            new_dict['Date'] = race[2].strip()\n",
    "            new_dict['Winner'] = ' '.join(race[3].split('\\n')[1:3])\n",
    "            new_dict['Car'] = race[4].strip()\n",
    "            new_dict['Laps'] = race[5].strip()\n",
    "            new_dict['Time'] = race[6].strip()\n",
    "            new_dict['Year'] = year\n",
    "\n",
    "        races.append(new_dict)\n",
    "\n",
    "print(races[len(races) - 1],len(races))"
   ]
  },
  {
   "cell_type": "code",
   "execution_count": 6,
   "metadata": {},
   "outputs": [
    {
     "name": "stdout",
     "output_type": "stream",
     "text": [
      "\r\n",
      "CommandNotFoundError: Your shell has not been properly configured to use 'conda activate'.\r\n",
      "To initialize your shell, run\r\n",
      "\r\n",
      "    $ conda init <SHELL_NAME>\r\n",
      "\r\n",
      "Currently supported shells are:\r\n",
      "  - bash\r\n",
      "  - fish\r\n",
      "  - tcsh\r\n",
      "  - xonsh\r\n",
      "  - zsh\r\n",
      "  - powershell\r\n",
      "\r\n",
      "See 'conda init --help' for more information and options.\r\n",
      "\r\n",
      "IMPORTANT: You may need to close and restart your shell after running 'conda init'.\r\n",
      "\r\n",
      "\r\n"
     ]
    }
   ],
   "source": [
    "!conda init "
   ]
  },
  {
   "cell_type": "code",
   "execution_count": 25,
   "metadata": {},
   "outputs": [
    {
     "data": {
      "text/plain": [
       "<pymongo.results.InsertManyResult at 0x113c5a280>"
      ]
     },
     "execution_count": 25,
     "metadata": {},
     "output_type": "execute_result"
    }
   ],
   "source": [
    "conn = 'mongodb://localhost:27017'\n",
    "\n",
    "client = pymongo.MongoClient(conn)\n",
    "\n",
    "db = client.f1_db\n",
    "\n",
    "db.race_results.insert_many(races)"
   ]
  },
  {
   "cell_type": "code",
   "execution_count": 28,
   "metadata": {},
   "outputs": [
    {
     "name": "stdout",
     "output_type": "stream",
     "text": [
      "{'_id': ObjectId('5ec737edd5d2cba6221285ae'), 'Grand Prix': 'Argentina', 'Date': '18 Jan 1953', 'Winner': 'Alberto Ascari', 'Car': 'Ferrari', 'Laps': '97', 'Time': '3:01:04.600', 'Year': 1953}\n",
      "{'_id': ObjectId('5ec737edd5d2cba6221285af'), 'Grand Prix': 'Indianapolis 500', 'Date': '30 May 1953', 'Winner': 'Bill  Vukovich ', 'Car': 'Kurtis Kraft Offenhauser', 'Laps': '200', 'Time': '3:53:01.690', 'Year': 1953}\n",
      "{'_id': ObjectId('5ec737edd5d2cba6221285b0'), 'Grand Prix': 'Netherlands', 'Date': '07 Jun 1953', 'Winner': 'Alberto Ascari', 'Car': 'Ferrari', 'Laps': '90', 'Time': '2:53:35.800', 'Year': 1953}\n",
      "{'_id': ObjectId('5ec737edd5d2cba6221285b1'), 'Grand Prix': 'Belgium', 'Date': '21 Jun 1953', 'Winner': 'Alberto Ascari', 'Car': 'Ferrari', 'Laps': '36', 'Time': '2:48:30.300', 'Year': 1953}\n",
      "{'_id': ObjectId('5ec737edd5d2cba6221285b2'), 'Grand Prix': 'France', 'Date': '05 Jul 1953', 'Winner': 'Mike Hawthorn', 'Car': 'Ferrari', 'Laps': '60', 'Time': '2:44:18.600', 'Year': 1953}\n",
      "{'_id': ObjectId('5ec737edd5d2cba6221285b3'), 'Grand Prix': 'Great Britain', 'Date': '18 Jul 1953', 'Winner': 'Alberto Ascari', 'Car': 'Ferrari', 'Laps': '90', 'Time': '2:50:00.000', 'Year': 1953}\n",
      "{'_id': ObjectId('5ec737edd5d2cba6221285b4'), 'Grand Prix': 'Germany', 'Date': '02 Aug 1953', 'Winner': 'Nino Farina', 'Car': 'Ferrari', 'Laps': '18', 'Time': '3:02:25.000', 'Year': 1953}\n",
      "{'_id': ObjectId('5ec737edd5d2cba6221285b5'), 'Grand Prix': 'Switzerland', 'Date': '23 Aug 1953', 'Winner': 'Alberto Ascari', 'Car': 'Ferrari', 'Laps': '65', 'Time': '3:01:34.400', 'Year': 1953}\n",
      "{'_id': ObjectId('5ec737edd5d2cba6221285b6'), 'Grand Prix': 'Italy', 'Date': '13 Sep 1953', 'Winner': 'Juan Manuel Fangio', 'Car': 'Maserati', 'Laps': '80', 'Time': '2:49:45.900', 'Year': 1953}\n"
     ]
    }
   ],
   "source": [
    "results = db.race_results.find({'Year':1953})\n",
    "for result in results:\n",
    "    print(result)"
   ]
  },
  {
   "cell_type": "code",
   "execution_count": null,
   "metadata": {},
   "outputs": [],
   "source": []
  }
 ],
 "metadata": {
  "kernelspec": {
   "display_name": "Python 3",
   "language": "python",
   "name": "python3"
  },
  "language_info": {
   "codemirror_mode": {
    "name": "ipython",
    "version": 3
   },
   "file_extension": ".py",
   "mimetype": "text/x-python",
   "name": "python",
   "nbconvert_exporter": "python",
   "pygments_lexer": "ipython3",
   "version": "3.7.4"
  }
 },
 "nbformat": 4,
 "nbformat_minor": 2
}
